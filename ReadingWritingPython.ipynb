{
 "cells": [
  {
   "cell_type": "markdown",
   "id": "c3d27f63-8f3c-43f8-89e8-a22fa5ea0e62",
   "metadata": {},
   "source": [
    "## Reading files in Python"
   ]
  },
  {
   "cell_type": "code",
   "execution_count": null,
   "id": "5d49b959-e8ac-41c9-924c-cca5cdf8e5d5",
   "metadata": {},
   "outputs": [],
   "source": [
    "import pandas as pd"
   ]
  },
  {
   "cell_type": "code",
   "execution_count": null,
   "id": "f87e1388-691e-4fd4-a2e3-042cb76f6732",
   "metadata": {},
   "outputs": [],
   "source": [
    "# Read the Example1.txt\n",
    "example1 = \"example1.txt\"\n",
    "file1 = open(example1, \"r\")"
   ]
  },
  {
   "cell_type": "code",
   "execution_count": null,
   "id": "7bade07f-075c-4156-ae9c-84062c57ecc8",
   "metadata": {},
   "outputs": [],
   "source": [
    "#Print the path of file\n",
    "file1.name"
   ]
  },
  {
   "cell_type": "code",
   "execution_count": null,
   "id": "667e39dd-75b2-4df4-a175-60601a3d0230",
   "metadata": {},
   "outputs": [],
   "source": [
    "#Print the mode of file, either 'r' or 'w'\n",
    "file1.mode"
   ]
  },
  {
   "cell_type": "code",
   "execution_count": null,
   "id": "091ca8b4-8a5e-4d21-bfa2-7f29728c3d1e",
   "metadata": {},
   "outputs": [],
   "source": [
    "#Read the file\n",
    "FileContent = file1.read()\n",
    "FileContent"
   ]
  },
  {
   "cell_type": "code",
   "execution_count": null,
   "id": "7a67e1fa-f2eb-4da6-9131-6a9792538af0",
   "metadata": {},
   "outputs": [],
   "source": [
    "#Print the file with '\\n' as a new line\n",
    "print(FileContent)"
   ]
  },
  {
   "cell_type": "code",
   "execution_count": null,
   "id": "8ed1366e-a204-4a17-8901-679bbb7f5d49",
   "metadata": {},
   "outputs": [],
   "source": [
    "#Type of file content\n",
    "type(FileContent)"
   ]
  },
  {
   "cell_type": "code",
   "execution_count": null,
   "id": "b1680487-3579-4507-8d50-f494b3576a97",
   "metadata": {},
   "outputs": [],
   "source": [
    "#Close file after finish\n",
    "file1.close()"
   ]
  },
  {
   "cell_type": "markdown",
   "id": "d0527e77-ac33-4de3-8f22-0b8697d4234c",
   "metadata": {},
   "source": [
    "## A better way to open a file"
   ]
  },
  {
   "cell_type": "code",
   "execution_count": null,
   "id": "c8a8017e-48ae-4604-9bef-29a6d0a847f5",
   "metadata": {},
   "outputs": [],
   "source": [
    "#Open file using with\n",
    "with open(example1, \"r\") as file1:\n",
    "    FileContent = file1.read()\n",
    "    print(FileContent)"
   ]
  },
  {
   "cell_type": "code",
   "execution_count": null,
   "id": "4daea49b-09f0-48a9-aca8-474580617fa7",
   "metadata": {},
   "outputs": [],
   "source": [
    "#Verify if the file is closed\n",
    "file1.closed"
   ]
  },
  {
   "cell_type": "code",
   "execution_count": null,
   "id": "8109d7a7-e32f-4789-9752-2adef949778a",
   "metadata": {},
   "outputs": [],
   "source": [
    "#See the content of file\n",
    "print(FileContent)"
   ]
  },
  {
   "cell_type": "code",
   "execution_count": null,
   "id": "39b601f0-1cd7-4c06-a6ca-923eb1d288a4",
   "metadata": {},
   "outputs": [],
   "source": [
    "#Read first four characters\n",
    "with open(example1, \"r\") as file1:\n",
    "    print(file1.read(4))"
   ]
  },
  {
   "cell_type": "code",
   "execution_count": null,
   "id": "cb1f67e0-3e9f-43e0-8413-7b3a6a3785a4",
   "metadata": {},
   "outputs": [],
   "source": [
    "#Read certain amount of characters\n",
    "with open(example1, \"r\") as file1:\n",
    "    print(file1.read(4))\n",
    "    print(file1.read(4))\n",
    "    print(file1.read(7))\n",
    "    print(file1.read(15))"
   ]
  },
  {
   "cell_type": "code",
   "execution_count": null,
   "id": "5681ae89-f289-42bf-bc73-2472af58109c",
   "metadata": {},
   "outputs": [],
   "source": [
    "#Read certain amount of characters\n",
    "with open(example1, \"r\") as file1:\n",
    "    print(file1.read(16))\n",
    "    print(file1.read(5))\n",
    "    print(file1.read(9))"
   ]
  },
  {
   "cell_type": "code",
   "execution_count": null,
   "id": "c5e93c0d-2534-48a1-b75d-e323625f41c8",
   "metadata": {},
   "outputs": [],
   "source": [
    "#Read one line\n",
    "with open(example1, \"r\") as file1:\n",
    "    print(\"first line: \" + file1.readline())"
   ]
  },
  {
   "cell_type": "code",
   "execution_count": null,
   "id": "530a36ef-7684-48bd-84a9-8afac3fe987b",
   "metadata": {},
   "outputs": [],
   "source": [
    "with open(example1, \"r\") as file1:\n",
    "    print(file1.readline(20)) # does not read past the end of line\n",
    "    print(file1.read(20)) # Returns the next 20 chars\n"
   ]
  },
  {
   "cell_type": "code",
   "execution_count": null,
   "id": "711b4f81-95c7-492a-9160-41fb51b93e7d",
   "metadata": {},
   "outputs": [],
   "source": [
    "#Iterate through the lines\n",
    "with open(example1,\"r\") as file1:\n",
    "        i = 0;\n",
    "        for line in file1:\n",
    "            print(\"Iteration\", str(i), \": \", line)\n",
    "            i = i + 1"
   ]
  },
  {
   "cell_type": "code",
   "execution_count": null,
   "id": "9e9a89ef-fd8d-4430-864f-b88acff986cb",
   "metadata": {},
   "outputs": [],
   "source": [
    "#Read all lines and save as a list\n",
    "with open(example1, \"r\") as file1:\n",
    "    FileasList = file1.readlines()"
   ]
  },
  {
   "cell_type": "code",
   "execution_count": null,
   "id": "500e6344-ede1-412b-9040-a8f3cc97208b",
   "metadata": {},
   "outputs": [],
   "source": [
    "#Print the first line\n",
    "FileasList[0]"
   ]
  },
  {
   "cell_type": "code",
   "execution_count": null,
   "id": "ab0773be-b472-4e3a-8fa4-5bc576639658",
   "metadata": {},
   "outputs": [],
   "source": [
    "#Print the third line\n",
    "FileasList[2]"
   ]
  },
  {
   "cell_type": "markdown",
   "id": "111c911b-e1bf-4435-a685-e4d8ffeb94f7",
   "metadata": {},
   "source": [
    "## Writing and Saving Files"
   ]
  },
  {
   "cell_type": "code",
   "execution_count": null,
   "id": "8931667d-6ab2-4289-99ed-1379202681dc",
   "metadata": {},
   "outputs": [],
   "source": [
    "# Write line to file\n",
    "exmp2 = '/Example2.txt'\n",
    "with open(exmp2, 'w') as writefile:\n",
    "    writefile.write(\"This is line A\")"
   ]
  },
  {
   "cell_type": "code",
   "execution_count": null,
   "id": "bd88b032-0780-44e8-adc2-5f07083667e0",
   "metadata": {},
   "outputs": [],
   "source": []
  },
  {
   "cell_type": "code",
   "execution_count": null,
   "id": "d4c7bab9-d057-4e28-b443-24a66ccf8436",
   "metadata": {},
   "outputs": [],
   "source": [
    "# Read file\n",
    "\n",
    "with open(exmp2, 'r') as testwritefile:\n",
    "    print(testwritefile.read())"
   ]
  },
  {
   "cell_type": "code",
   "execution_count": null,
   "id": "f6afc3d1-c92d-4357-a1da-75dc1180abaa",
   "metadata": {},
   "outputs": [],
   "source": [
    "# Write lines to file\n",
    "\n",
    "with open(exmp2, 'w') as writefile:\n",
    "    writefile.write(\"This is line A\\n\")\n",
    "    writefile.write(\"This is line B\\n\")"
   ]
  },
  {
   "cell_type": "code",
   "execution_count": null,
   "id": "293a32b8-f382-4fd1-b6a2-74a2b755f4c0",
   "metadata": {},
   "outputs": [],
   "source": [
    "# Check whether write to file\n",
    "\n",
    "with open(exmp2, 'r') as testwritefile:\n",
    "    print(testwritefile.read())"
   ]
  },
  {
   "cell_type": "code",
   "execution_count": null,
   "id": "12cad2f2-c43a-40b3-85d4-7f68562aef68",
   "metadata": {},
   "outputs": [],
   "source": [
    "# Sample list of text\n",
    "\n",
    "Lines = [\"This is line A\\n\", \"This is line B\\n\", \"This is line C\\n\"]\n",
    "Lines"
   ]
  },
  {
   "cell_type": "code",
   "execution_count": null,
   "id": "4c8b85ec-c62d-479f-9d17-4055e9d443ac",
   "metadata": {},
   "outputs": [],
   "source": [
    "# Write the strings in the list to text file\n",
    "\n",
    "with open('/Example2.txt', 'w') as writefile:\n",
    "    for line in Lines:\n",
    "        print(line)\n",
    "        writefile.write(line)"
   ]
  },
  {
   "cell_type": "code",
   "execution_count": null,
   "id": "c7362360-5cd9-4701-8f73-843f71ac878e",
   "metadata": {},
   "outputs": [],
   "source": [
    "# Verify if writing to file is successfully executed\n",
    "\n",
    "with open('/Example2.txt', 'r') as testwritefile:\n",
    "    print(testwritefile.read())"
   ]
  },
  {
   "cell_type": "code",
   "execution_count": null,
   "id": "b0c9a45b-f5d6-497f-b514-f4703b93d7e2",
   "metadata": {},
   "outputs": [],
   "source": [
    "with open('/Example2.txt', 'w') as writefile:\n",
    "    writefile.write(\"Overwrite\\n\")\n",
    "with open('/Example2.txt', 'r') as testwritefile:\n",
    "    print(testwritefile.read())"
   ]
  },
  {
   "cell_type": "markdown",
   "id": "636fe7d5-44b8-484c-b834-9502ea3e14a7",
   "metadata": {},
   "source": [
    "## Appending files"
   ]
  },
  {
   "cell_type": "code",
   "execution_count": null,
   "id": "4256d255-f3b9-4328-94f4-188e11ab071f",
   "metadata": {},
   "outputs": [],
   "source": [
    "# Write a new line to text file\n",
    "\n",
    "with open('/Example2.txt', 'a') as testwritefile:\n",
    "    testwritefile.write(\"This is line C\\n\")\n",
    "    testwritefile.write(\"This is line D\\n\")\n",
    "    testwritefile.write(\"This is line E\\n\")"
   ]
  },
  {
   "cell_type": "code",
   "execution_count": null,
   "id": "d45861d0-e16f-4ea4-978c-3f3da0ce7ad2",
   "metadata": {},
   "outputs": [],
   "source": [
    "# Verify if the new line is in the text file\n",
    "\n",
    "with open('/Example2.txt', 'r') as testwritefile:\n",
    "    print(testwritefile.read())"
   ]
  },
  {
   "cell_type": "markdown",
   "id": "befdcc31-adc8-4b70-84a9-b19e663f2e3d",
   "metadata": {
    "tags": []
   },
   "source": [
    "## Additional Modes"
   ]
  },
  {
   "cell_type": "code",
   "execution_count": null,
   "id": "d8b4db8b-844d-4379-9ee3-910f26063ec9",
   "metadata": {},
   "outputs": [],
   "source": [
    "with open('/Example2.txt', 'a+') as testwritefile:\n",
    "    testwritefile.write(\"This is line E\\n\")\n",
    "    print(testwritefile.read())"
   ]
  },
  {
   "cell_type": "code",
   "execution_count": null,
   "id": "8e773e24-5ae5-4493-97a0-0b3b51336381",
   "metadata": {
    "tags": []
   },
   "outputs": [],
   "source": [
    "with open('/Example2.txt', 'a+') as testwritefile:\n",
    "    print(\"Initial Location: {}\".format(testwritefile.tell()))\n",
    "    \n",
    "    data = testwritefile.read()\n",
    "    if (not data):  #empty strings return false in python\n",
    "            print('Read nothing') \n",
    "    else: \n",
    "            print(testwritefile.read())\n",
    "            \n",
    "    testwritefile.seek(0,0) # move 0 bytes from beginning.\n",
    "    \n",
    "    print(\"\\nNew Location : {}\".format(testwritefile.tell()))\n",
    "    data = testwritefile.read()\n",
    "    if (not data): \n",
    "            print('Read nothing') \n",
    "    else: \n",
    "            print(data)\n",
    "    \n",
    "    print(\"Location after read: {}\".format(testwritefile.tell()) )"
   ]
  },
  {
   "cell_type": "code",
   "execution_count": null,
   "id": "e7a80cc5-42f9-44ac-9c45-281bf18d1a0c",
   "metadata": {},
   "outputs": [],
   "source": [
    "with open('/Example2.txt', 'r+') as testwritefile:\n",
    "    testwritefile.seek(0,0) #write at beginning of file\n",
    "    testwritefile.write(\"Line 1\" + \"\\n\")\n",
    "    testwritefile.write(\"Line 2\" + \"\\n\")\n",
    "    testwritefile.write(\"Line 3\" + \"\\n\")\n",
    "    testwritefile.write(\"Line 4\" + \"\\n\")\n",
    "    testwritefile.write(\"finished\\n\")\n",
    "    testwritefile.seek(0,0)\n",
    "    print(testwritefile.read())"
   ]
  },
  {
   "cell_type": "code",
   "execution_count": null,
   "id": "54aed2e1-db44-419a-9b62-9df775bc9f4e",
   "metadata": {},
   "outputs": [],
   "source": [
    "with open('/Example2.txt', 'r+') as testwritefile:\n",
    "    testwritefile.seek(0,0) #write at beginning of file\n",
    "    testwritefile.write(\"Line 1\" + \"\\n\")\n",
    "    testwritefile.write(\"Line 2\" + \"\\n\")\n",
    "    testwritefile.write(\"Line 3\" + \"\\n\")\n",
    "    testwritefile.write(\"Line 4\" + \"\\n\")\n",
    "    testwritefile.write(\"finished\\n\")\n",
    "    #Uncomment the line below\n",
    "    testwritefile.truncate()\n",
    "    testwritefile.seek(0,0)\n",
    "    print(testwritefile.read())\n",
    "    "
   ]
  },
  {
   "cell_type": "markdown",
   "id": "65640bfe-471e-4d6a-b459-565b1ebb2f09",
   "metadata": {},
   "source": [
    "## Copy a File"
   ]
  },
  {
   "cell_type": "code",
   "execution_count": null,
   "id": "bbad5c71-59de-455e-837a-dc4e5f5458f5",
   "metadata": {},
   "outputs": [],
   "source": [
    "# Copy file to another\n",
    "\n",
    "with open('/Example2.txt','r') as readfile:\n",
    "    with open('/Example3.txt','w') as writefile:\n",
    "          for line in readfile:\n",
    "                writefile.write(line)"
   ]
  },
  {
   "cell_type": "code",
   "execution_count": null,
   "id": "ba8cdc23-b0e1-43f7-84e6-73373f34a6fb",
   "metadata": {},
   "outputs": [],
   "source": [
    "# Verify if the copy is successfully executed\n",
    "\n",
    "with open('/Example3.txt','r') as testwritefile:\n",
    "    print(testwritefile.read())"
   ]
  }
 ],
 "metadata": {
  "kernelspec": {
   "display_name": "Python 3 (ipykernel)",
   "language": "python",
   "name": "python3"
  },
  "language_info": {
   "codemirror_mode": {
    "name": "ipython",
    "version": 3
   },
   "file_extension": ".py",
   "mimetype": "text/x-python",
   "name": "python",
   "nbconvert_exporter": "python",
   "pygments_lexer": "ipython3",
   "version": "3.11.3"
  }
 },
 "nbformat": 4,
 "nbformat_minor": 5
}
